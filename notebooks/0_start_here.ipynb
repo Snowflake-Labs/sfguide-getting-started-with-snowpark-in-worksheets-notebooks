{
 "cells": [
  {
   "cell_type": "markdown",
   "id": "61f3eed1-51a2-4810-bd35-4e116de35cb3",
   "metadata": {
    "collapsed": false,
    "name": "getting_started"
   },
   "source": [
    "Welcome to Snowflake! This guide helps you get started with Snowpark for data exploration and analysis. In this exercise, you will:\n",
    "\n",
    " * Load data from Snowflake tables into Snowpark DataFrames\n",
    " * Perform exploratory data analysis on Snowpark DataFrames\n",
    " * Pivot and join data from multiple tables using Snowpark DataFrames\n",
    " * Save transformed data into a Snowflake table"
   ]
  },
  {
   "cell_type": "markdown",
   "id": "754efa75-b08b-4134-bdf1-cd0ae8fe6fef",
   "metadata": {
    "collapsed": false,
    "name": "step_1"
   },
   "source": [
    "## Import Snowpark and create Snowpark session"
   ]
  },
  {
   "cell_type": "code",
   "execution_count": null,
   "id": "cde5f575-ee0e-4761-9f6e-11936d520c09",
   "metadata": {
    "codeCollapsed": false,
    "collapsed": false,
    "language": "python",
    "name": "imports"
   },
   "outputs": [],
   "source": [
    "import snowflake.snowpark as snowpark\n",
    "from snowflake.snowpark.functions import month,year,col,sum"
   ]
  },
  {
   "cell_type": "code",
   "execution_count": null,
   "id": "3775908f-ca36-4846-8f38-5adca39217f2",
   "metadata": {
    "codeCollapsed": false,
    "collapsed": false,
    "language": "python",
    "name": "snowpark_session"
   },
   "outputs": [],
   "source": [
    "from snowflake.snowpark.context import get_active_session\n",
    "session = get_active_session()\n",
    "# Add a query tag to the session.\n",
    "session.query_tag = {\"origin\":\"sf_sit-is\", \n",
    "                     \"name\":\"notebook_demo_pack\", \n",
    "                     \"version\":{\"major\":1, \"minor\":0},\n",
    "                     \"attributes\":{\"is_quickstart\":1, \"source\":\"notebook\", \"notebook\": \"getting_started_with_snowpark_in_snowflake_python_worksheets\"}}"
   ]
  },
  {
   "cell_type": "markdown",
   "id": "43ac9528-f167-4842-b4ca-dd7c3af2dc48",
   "metadata": {
    "collapsed": false,
    "name": "step_2"
   },
   "source": [
    "## Load `campaign_spend` and  `monthly_revenue` tables into Snowpark dataframes"
   ]
  },
  {
   "cell_type": "code",
   "execution_count": null,
   "id": "8d50cbf4-0c8d-4950-86cb-114990437ac9",
   "metadata": {
    "collapsed": false,
    "language": "python",
    "name": "read_from_table"
   },
   "outputs": [],
   "source": [
    "snow_df_spend = session.table('campaign_spend')\n",
    "snow_df_revenue = session.table('monthly_revenue')"
   ]
  },
  {
   "cell_type": "markdown",
   "id": "6146fbe8-e88b-4d8f-8322-505f7e7a5c53",
   "metadata": {
    "collapsed": false,
    "name": "step_3"
   },
   "source": [
    "## Total Spend per Year and Month For All Channels\n",
    "Let's transform the campaign spend data so we can see total cost per year/month per channel using `group_by()` and `agg()` Snowpark DataFrame functions."
   ]
  },
  {
   "cell_type": "code",
   "execution_count": null,
   "id": "c695373e-ac74-4b62-a1f1-08206cbd5c81",
   "metadata": {
    "collapsed": false,
    "language": "python",
    "name": "spend_per_channel"
   },
   "outputs": [],
   "source": [
    "snow_df_spend_per_channel = snow_df_spend.group_by(year('DATE'), month('DATE'),'CHANNEL').\\\n",
    "                                            agg(sum('TOTAL_COST').as_('TOTAL_COST')).\\\n",
    "                                            with_column_renamed('\"YEAR(DATE)\"',\"YEAR\").\\\n",
    "                                            with_column_renamed('\"MONTH(DATE)\"',\"MONTH\").\\\n",
    "                                            sort('YEAR','MONTH')\n",
    "snow_df_spend_per_channel"
   ]
  },
  {
   "cell_type": "markdown",
   "id": "ccc9fe0a-e400-4c22-90dc-7dd6820ad0a4",
   "metadata": {
    "collapsed": false,
    "name": "step_4"
   },
   "source": [
    "## Total Spend per Year and Month\n",
    "Let's further transform the campaign spend data by `pivoting` on the `channel` dimension. This should give us the campaign spend for every month across all channels on the same row."
   ]
  },
  {
   "cell_type": "code",
   "execution_count": null,
   "id": "30e5ae75-40a6-4d0f-a456-07c4e23a6eda",
   "metadata": {
    "codeCollapsed": false,
    "collapsed": false,
    "language": "python",
    "name": "spend_per_month"
   },
   "outputs": [],
   "source": [
    "snow_df_spend_per_month = snow_df_spend_per_channel.pivot('CHANNEL',['search_engine','social_media','video','email']).\\\n",
    "                                                    sum('TOTAL_COST').\\\n",
    "                                                    sort('YEAR','MONTH')\n",
    "\n",
    "snow_df_spend_per_month = snow_df_spend_per_month.select(\n",
    "        col(\"YEAR\"),\n",
    "        col(\"MONTH\"),\n",
    "        col(\"'search_engine'\").as_(\"SEARCH_ENGINE\"),\n",
    "        col(\"'social_media'\").as_(\"SOCIAL_MEDIA\"),\n",
    "        col(\"'video'\").as_(\"VIDEO\"),\n",
    "        col(\"'email'\").as_(\"EMAIL\")\n",
    "    )\n",
    "\n",
    "snow_df_spend_per_month"
   ]
  },
  {
   "cell_type": "markdown",
   "id": "35572f55-82f9-4b54-9622-304d03d5f7d7",
   "metadata": {
    "collapsed": false,
    "name": "step_5"
   },
   "source": [
    "## Total Revenue per Year and Month\n",
    "Now let's transform the revenue data into revenue per year/month using `group_by()` and `agg()` functions."
   ]
  },
  {
   "cell_type": "code",
   "execution_count": null,
   "id": "459ce8e4-38e3-4a9c-aea5-d879ba3c7a2b",
   "metadata": {
    "collapsed": false,
    "language": "python",
    "name": "revenue_per_month"
   },
   "outputs": [],
   "source": [
    "snow_df_revenue_per_month = snow_df_revenue.group_by('YEAR','MONTH').\\\n",
    "                                            agg(sum('REVENUE')).\\\n",
    "                                            sort('YEAR','MONTH').\\\n",
    "                                            with_column_renamed('SUM(REVENUE)','REVENUE')\n",
    "snow_df_revenue_per_month"
   ]
  },
  {
   "cell_type": "markdown",
   "id": "05e7c9d6-22b4-4343-927a-6bb330b169cb",
   "metadata": {
    "collapsed": false,
    "name": "step_6"
   },
   "source": [
    "## Join Total Spend and Total Revenue per Year and Month Across All Channels\n",
    "Next let's `join` this `revenue` data with the transformed `campaign spend` data so we can analyze the spend and revenue data side by side. "
   ]
  },
  {
   "cell_type": "code",
   "execution_count": null,
   "id": "471359bc-0ac7-4fe1-83c2-644a81f9d135",
   "metadata": {
    "collapsed": false,
    "language": "python",
    "name": "join_spend_and_revenue_per_month"
   },
   "outputs": [],
   "source": [
    "snow_df_spend_and_revenue_per_month = snow_df_spend_per_month.join(snow_df_revenue_per_month, [\"YEAR\",\"MONTH\"])\n",
    "snow_df_spend_and_revenue_per_month"
   ]
  },
  {
   "cell_type": "markdown",
   "id": "fc7f8bf0-a28a-4b33-bad3-c24bb2bab87a",
   "metadata": {
    "collapsed": false,
    "name": "step_7"
   },
   "source": [
    "## Examine DataFrame Explain Plan\n",
    "Snowpark makes it really convenient to look at the DataFrame query and execution plan using `explain()` Snowpark DataFrame function."
   ]
  },
  {
   "cell_type": "code",
   "execution_count": null,
   "id": "04f05b39-dbc2-435f-9fc7-50e6cae31ebc",
   "metadata": {
    "collapsed": false,
    "language": "python",
    "name": "dataframe_explain"
   },
   "outputs": [],
   "source": [
    "snow_df_spend_and_revenue_per_month.explain()"
   ]
  },
  {
   "cell_type": "markdown",
   "id": "b78b1ff6-ca5f-41a1-8373-3665d7db50b9",
   "metadata": {
    "collapsed": false,
    "name": "step_8"
   },
   "source": [
    "## Save Transformed Data into Snowflake Table\n",
    "Let's save the transformed data into a Snowflake table `SPEND_AND_REVENUE_PER_MONTH`"
   ]
  },
  {
   "cell_type": "code",
   "execution_count": null,
   "id": "2a75cfbc-be9e-4915-b2cc-03df0670583f",
   "metadata": {
    "collapsed": false,
    "language": "python",
    "name": "write_to_table"
   },
   "outputs": [],
   "source": [
    "snow_df_spend_and_revenue_per_month.write.mode('overwrite').save_as_table('SPEND_AND_REVENUE_PER_MONTH')"
   ]
  },
  {
   "cell_type": "markdown",
   "id": "d1f5ce2c-6c76-4222-8563-ad012a5ba0f3",
   "metadata": {
    "collapsed": false,
    "name": "additional_resources"
   },
   "source": [
    "## Continue your learning!\n",
    "\n",
    "This notebook is simply a `Hello World` of `Data Engineering with Snowpark`. To learn advanced data engineering with Snowflake, hop on to https://quickstarts.snowflake.com/guide/data_engineering_with_notebooks/index.html."
   ]
  }
 ],
 "metadata": {
  "kernelspec": {
   "display_name": "Streamlit Notebook",
   "name": "streamlit"
  }
 },
 "nbformat": 4,
 "nbformat_minor": 5
}
